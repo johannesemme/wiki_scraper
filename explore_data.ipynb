{
 "cells": [
  {
   "cell_type": "code",
   "execution_count": 53,
   "metadata": {},
   "outputs": [],
   "source": [
    "import pandas as pd"
   ]
  },
  {
   "cell_type": "code",
   "execution_count": 54,
   "metadata": {},
   "outputs": [],
   "source": [
    "df = pd.read_csv(\"data/wiki_data_depth_3_cleaned.csv\", sep=\";\")"
   ]
  },
  {
   "cell_type": "code",
   "execution_count": 55,
   "metadata": {},
   "outputs": [
    {
     "data": {
      "text/html": [
       "<div>\n",
       "<style scoped>\n",
       "    .dataframe tbody tr th:only-of-type {\n",
       "        vertical-align: middle;\n",
       "    }\n",
       "\n",
       "    .dataframe tbody tr th {\n",
       "        vertical-align: top;\n",
       "    }\n",
       "\n",
       "    .dataframe thead th {\n",
       "        text-align: right;\n",
       "    }\n",
       "</style>\n",
       "<table border=\"1\" class=\"dataframe\">\n",
       "  <thead>\n",
       "    <tr style=\"text-align: right;\">\n",
       "      <th></th>\n",
       "      <th>title</th>\n",
       "      <th>text</th>\n",
       "      <th>category</th>\n",
       "      <th>url</th>\n",
       "    </tr>\n",
       "  </thead>\n",
       "  <tbody>\n",
       "    <tr>\n",
       "      <th>0</th>\n",
       "      <td>Ekspert</td>\n",
       "      <td>Ekspert (noun) er en person, som er meget vide...</td>\n",
       "      <td>Uddannelse</td>\n",
       "      <td>https://da.wikipedia.org/wiki/Ekspert</td>\n",
       "    </tr>\n",
       "    <tr>\n",
       "      <th>1</th>\n",
       "      <td>Prægraduat uddannelse</td>\n",
       "      <td>Prægraduat uddannelse betyder ordret \"uddannel...</td>\n",
       "      <td>Uddannelse</td>\n",
       "      <td>https://da.wikipedia.org/wiki/Pr%C3%A6graduat_...</td>\n",
       "    </tr>\n",
       "    <tr>\n",
       "      <th>2</th>\n",
       "      <td>South African Students' Organisation</td>\n",
       "      <td>South African Students' Organisation ( SASO) v...</td>\n",
       "      <td>Uddannelse</td>\n",
       "      <td>https://da.wikipedia.org/wiki/South_African_St...</td>\n",
       "    </tr>\n",
       "    <tr>\n",
       "      <th>3</th>\n",
       "      <td>Civiløkonom</td>\n",
       "      <td>En civiløkonom er en person med en erhvervsøko...</td>\n",
       "      <td>Uddannelse</td>\n",
       "      <td>https://da.wikipedia.org/wiki/Civil%C3%B8konom</td>\n",
       "    </tr>\n",
       "    <tr>\n",
       "      <th>4</th>\n",
       "      <td>VUC Aarhus</td>\n",
       "      <td>Aarhus HF &amp; VUC er et voksenuddannelsescenter ...</td>\n",
       "      <td>Uddannelse</td>\n",
       "      <td>https://da.wikipedia.org/wiki/VUC_Aarhus</td>\n",
       "    </tr>\n",
       "  </tbody>\n",
       "</table>\n",
       "</div>"
      ],
      "text/plain": [
       "                                  title  \\\n",
       "0                               Ekspert   \n",
       "1                 Prægraduat uddannelse   \n",
       "2  South African Students' Organisation   \n",
       "3                           Civiløkonom   \n",
       "4                            VUC Aarhus   \n",
       "\n",
       "                                                text    category  \\\n",
       "0  Ekspert (noun) er en person, som er meget vide...  Uddannelse   \n",
       "1  Prægraduat uddannelse betyder ordret \"uddannel...  Uddannelse   \n",
       "2  South African Students' Organisation ( SASO) v...  Uddannelse   \n",
       "3  En civiløkonom er en person med en erhvervsøko...  Uddannelse   \n",
       "4  Aarhus HF & VUC er et voksenuddannelsescenter ...  Uddannelse   \n",
       "\n",
       "                                                 url  \n",
       "0              https://da.wikipedia.org/wiki/Ekspert  \n",
       "1  https://da.wikipedia.org/wiki/Pr%C3%A6graduat_...  \n",
       "2  https://da.wikipedia.org/wiki/South_African_St...  \n",
       "3     https://da.wikipedia.org/wiki/Civil%C3%B8konom  \n",
       "4           https://da.wikipedia.org/wiki/VUC_Aarhus  "
      ]
     },
     "execution_count": 55,
     "metadata": {},
     "output_type": "execute_result"
    }
   ],
   "source": [
    "df.head()"
   ]
  },
  {
   "cell_type": "code",
   "execution_count": 56,
   "metadata": {},
   "outputs": [
    {
     "data": {
      "text/plain": [
       "'Prægraduat uddannelse betyder ordret \"uddannelse før dimission\" eller \"uddannelse før tildeling af uddannelsesgrad\". Prægraduat uddannelse bruges overordnet som samlet betegnelse for den grunduddannelse eller det studieforløb på en videregående uddannelse, som en studerende er i færd med at gennemføre forud for sin dimission. En studerende på en prægraduat uddannelse kaldes en prægraduatstuderende. Se også. Postgraduat uddannelse.'"
      ]
     },
     "execution_count": 56,
     "metadata": {},
     "output_type": "execute_result"
    }
   ],
   "source": [
    "df.iloc[1][\"text\"]"
   ]
  },
  {
   "cell_type": "code",
   "execution_count": null,
   "metadata": {},
   "outputs": [],
   "source": []
  },
  {
   "cell_type": "code",
   "execution_count": 8,
   "metadata": {},
   "outputs": [],
   "source": [
    "# load data/wiki_3/uddanelse/Prægraduat uddannelse\n",
    "with open(\"data/wiki_3/Uddannelse/Prægraduat uddannelse.txt\", \"r\") as f:\n",
    "    text_file = f.read()\n",
    "\n",
    "title = text_file.split(\"\\t\")[0]\n",
    "url = text_file.split(\"\\t\")[1]\n",
    "category = text_file.split(\"\\t\")[2]\n",
    "text = text_file.split(\"\\t\")[3]"
   ]
  },
  {
   "cell_type": "code",
   "execution_count": 9,
   "metadata": {},
   "outputs": [
    {
     "data": {
      "text/plain": [
       "'<div class=\"mw-body-content mw-content-ltr\" dir=\"ltr\" id=\"mw-content-text\" lang=\"da\">\\n <div class=\"mw-parser-output\">\\n  <table class=\"box-Ingen_kilder plainlinks metadata ambox ambox-content ambox-Ingen-kilder\" role=\"presentation\">\\n  </table>\\n  <style data-mw-deduplicate=\"TemplateStyles:r10266497\">\\n   .mw-parser-output th.mbox-text,.mw-parser-output td.mbox-text{border:none;padding:0.25em 0.9em;width:100%}.mw-parser-output td.mbox-image{border:none;padding:2px 0 2px 0.9em;text-align:center}.mw-parser-output td.mbox-imageright{border:none;padding:2px 0.9em 2px 0;text-align:center}.mw-parser-output td.mbox-empty-cell{border:none;padding:0;width:1px}.mw-parser-output table.ambox{margin:0 10%;border:1px solid #a2a9b1;border-left:10px solid #36c;background-color:#fbfbfb;box-sizing:border-box}.mw-parser-output table.ambox+table.ambox{margin-top:-1px}.mw-parser-output .ambox th.mbox-text,.mw-parser-output .ambox td.mbox-text{padding:0.25em 0.5em}.mw-parser-output .ambox td.mbox-image{padding:2px 0 2px 0.5em}.mw-parser-output .ambox td.mbox-imageright{padding:2px 0.5em 2px 0}.mw-parser-output table.ambox-notice{border-left:10px solid #36c}.mw-parser-output table.ambox-speedy{border-left:10px solid #b32424;background-color:#fee7e6}.mw-parser-output table.ambox-delete{border-left:10px solid #b32424}.mw-parser-output table.ambox-content{border-left:10px solid #f28500}.mw-parser-output table.ambox-style{border-left:10px solid #fc3}.mw-parser-output table.ambox-move{border-left:10px solid #9932cc}.mw-parser-output table.ambox-protection{border-left:10px solid #a2a9b1}.mw-parser-output table.imbox{margin:4px 10%;border-collapse:collapse;border:3px solid #36c;background-color:#fbfbfb;box-sizing:border-box}.mw-parser-output .imbox .mbox-text .imbox{margin:0 -0.5em;display:block}.mw-parser-output .mbox-inside .imbox{margin:4px}.mw-parser-output table.imbox-notice{border:3px solid #36c}.mw-parser-output table.imbox-speedy{border:3px solid #b32424;background-color:#fee7e6}.mw-parser-output table.imbox-delete{border:3px solid #b32424}.mw-parser-output table.imbox-content{border:3px solid #f28500}.mw-parser-output table.imbox-style{border:3px solid #fc3}.mw-parser-output table.imbox-move{border:3px solid #9932cc}.mw-parser-output table.imbox-protection{border:3px solid #a2a9b1}.mw-parser-output table.imbox-license{border:3px solid #88a;background-color:#f7f8ff}.mw-parser-output table.imbox-featured{border:3px solid #cba135}.mw-parser-output table.cmbox{margin:3px 10%;border-collapse:collapse;border:1px solid #a2a9b1;background-color:#dfe8ff;box-sizing:border-box}.mw-parser-output table.cmbox-notice{background-color:#d8e8ff}.mw-parser-output table.cmbox-speedy{margin-top:4px;margin-bottom:4px;border:4px solid #b32424;background-color:#ffdbdb}.mw-parser-output table.cmbox-delete{background-color:#ffdbdb}.mw-parser-output table.cmbox-content{background-color:#ffe7ce}.mw-parser-output table.cmbox-style{background-color:#fff9db}.mw-parser-output table.cmbox-move{background-color:#e4d8ff}.mw-parser-output table.cmbox-protection{background-color:#efefe1}.mw-parser-output table.ombox{margin:4px 10%;border-collapse:collapse;border:1px solid #a2a9b1;background-color:#f8f9fa;box-sizing:border-box}.mw-parser-output table.ombox-notice{border:1px solid #a2a9b1}.mw-parser-output table.ombox-speedy{border:2px solid #b32424;background-color:#fee7e6}.mw-parser-output table.ombox-delete{border:2px solid #b32424}.mw-parser-output table.ombox-content{border:1px solid #f28500}.mw-parser-output table.ombox-style{border:1px solid #fc3}.mw-parser-output table.ombox-move{border:1px solid #9932cc}.mw-parser-output table.ombox-protection{border:2px solid #a2a9b1}.mw-parser-output table.tmbox{margin:4px 10%;border-collapse:collapse;border:1px solid #c0c090;background-color:#f8eaba;min-width:80%;box-sizing:border-box}.mw-parser-output .tmbox.mbox-small{min-width:0}.mw-parser-output .mediawiki .mbox-inside .tmbox{margin:2px 0;width:100%}.mw-parser-output .mbox-inside .tmbox.mbox-small{line-height:1.5em;font-size:100%}.mw-parser-output table.tmbox-speedy{border:2px solid #b32424;background-color:#fee7e6}.mw-parser-output table.tmbox-delete{border:2px solid #b32424}.mw-parser-output table.tmbox-content{border:2px solid #f28500}.mw-parser-output table.tmbox-style{border:2px solid #fc3}.mw-parser-output table.tmbox-move{border:2px solid #9932cc}.mw-parser-output table.tmbox-protection,.mw-parser-output table.tmbox-notice{border:1px solid #c0c090}.mw-parser-output table.fmbox{clear:both;margin:0.2em 0;width:100%;border:1px solid #a2a9b1;background-color:#f8f9fa;box-sizing:border-box}.mw-parser-output table.fmbox-system{background-color:#f8f9fa}.mw-parser-output table.fmbox-warning{border:1px solid #bb7070;background-color:#ffdbdb}.mw-parser-output table.fmbox-editnotice{background-color:transparent}.mw-parser-output div.mw-warning-with-logexcerpt,.mw-parser-output div.mw-lag-warn-high,.mw-parser-output div.mw-cascadeprotectedwarning,.mw-parser-output div/**/#mw-protect-cascadeon,.mw-parser-output div.titleblacklist-warning,.mw-parser-output div.locked-warning{clear:both;margin:0.2em 0;border:1px solid #bb7070;background-color:#ffdbdb;padding:0.25em 0.9em;box-sizing:border-box}html body.mediawiki .mw-parser-output .mbox-small{clear:right;float:right;margin:4px 0 4px 1em;box-sizing:border-box;width:238px;font-size:88%;line-height:1.25em}html body.mediawiki .mw-parser-output .mbox-small-left{margin:4px 1em 4px 0;box-sizing:border-box;overflow:hidden;width:238px;border-collapse:collapse;font-size:88%;line-height:1.25em}.mw-parser-output .compact-ambox table .mbox-image,.mw-parser-output .compact-ambox table .mbox-imageright,.mw-parser-output .compact-ambox table .mbox-empty-cell{display:none}.mw-parser-output .compact-ambox table.ambox{border:none;border-collapse:collapse;background-color:transparent;margin:0 0 0 1.6em!important;padding:0!important;width:auto;display:block}body.mediawiki .mw-parser-output .compact-ambox table.mbox-small-left{font-size:100%;width:auto;margin:0}.mw-parser-output .compact-ambox table .mbox-text{padding:0;margin:0}.mw-parser-output .compact-ambox table .mbox-text-span{display:list-item;line-height:1.5em;list-style-type:square}.mw-parser-output .skin-vector .compact-ambox table .mbox-text-span{list-style-type:disc}.mw-parser-output .compact-ambox .hide-when-compact{display:none}.mw-parser-output .template-documentation{clear:both;margin:1em 0 0 0;border:1px solid #aaa;background-color:#ecfcf4;padding:1em}\\n  </style>\\n  <p>\\n   <b>\\n    Prægraduat uddannelse\\n   </b>\\n   betyder ordret \"\\n   <a href=\"/wiki/Uddannelse\" title=\"Uddannelse\">\\n    uddannelse\\n   </a>\\n   før\\n   <a href=\"/wiki/Dimission\" title=\"Dimission\">\\n    dimission\\n   </a>\\n   \" eller \"\\n   <a href=\"/wiki/Uddannelse\" title=\"Uddannelse\">\\n    uddannelse\\n   </a>\\n   før tildeling af\\n   <a href=\"/wiki/Akademisk_grad\" title=\"Akademisk grad\">\\n    uddannelsesgrad\\n   </a>\\n   \". Prægraduat uddannelse bruges overordnet som samlet betegnelse for den grunduddannelse eller det studieforløb på en\\n   <a href=\"/wiki/Videreg%C3%A5ende_uddannelser_i_Danmark\" title=\"Videregående uddannelser i Danmark\">\\n    videregående uddannelse\\n   </a>\\n   , som en\\n   <a href=\"/wiki/Studerende\" title=\"Studerende\">\\n    studerende\\n   </a>\\n   er i færd med at gennemføre forud for sin\\n   <a href=\"/wiki/Dimission\" title=\"Dimission\">\\n    dimission\\n   </a>\\n   . En studerende på en prægraduat uddannelse kaldes en\\n   <i>\\n    prægraduatstuderende\\n   </i>\\n   .\\n  </p>\\n  <h2>\\n   <span id=\"Se_ogs.C3.A5\">\\n   </span>\\n   <span class=\"mw-headline\" id=\"Se_også\">\\n    Se også\\n   </span>\\n   <span class=\"mw-editsection\">\\n    <span class=\"mw-editsection-bracket\">\\n     [\\n    </span>\\n    <a class=\"mw-editsection-visualeditor\" href=\"/w/index.php?title=Pr%C3%A6graduat_uddannelse&amp;veaction=edit&amp;section=1\" title=\"Redigér afsnit: Se også\">\\n     redigér\\n    </a>\\n    <span class=\"mw-editsection-divider\">\\n     |\\n    </span>\\n    <a href=\"/w/index.php?title=Pr%C3%A6graduat_uddannelse&amp;action=edit&amp;section=1\" title=\"Redigér afsnit: Se også\">\\n     rediger kildetekst\\n    </a>\\n    <span class=\"mw-editsection-bracket\">\\n     ]\\n    </span>\\n   </span>\\n  </h2>\\n  <ul>\\n   <li>\\n    <a href=\"/wiki/Postgraduat_uddannelse\" title=\"Postgraduat uddannelse\">\\n     Postgraduat uddannelse\\n    </a>\\n   </li>\\n  </ul>\\n  <p>\\n   <br/>\\n  </p>\\n  <div style=\"clear:both; visibility:false; display:none\">\\n  </div>\\n  <table class=\"\" style=\"width: 100%; float: none; margin: 0 auto; border-collapse: collapse; background: #FBFBFB; border: 1px solid #aaa; border-left: 10px solid #66bb77;padding: 0.25em 0.5em;\">\\n  </table>\\n  <div style=\"clear:both; visibility:false; display:none\">\\n  </div>\\n  <!-- \\nNewPP limit report\\nParsed by mw1397\\nCached time: 20230702231515\\nCache expiry: 1814400\\nReduced expiry: false\\nComplications: []\\nCPU time usage: 0.093 seconds\\nReal time usage: 0.119 seconds\\nPreprocessor visited node count: 209/1000000\\nPost‐expand include size: 7495/2097152 bytes\\nTemplate argument size: 759/2097152 bytes\\nHighest expansion depth: 8/100\\nExpensive parser function count: 2/500\\nUnstrip recursion depth: 0/20\\nUnstrip post‐expand size: 6297/5000000 bytes\\nLua time usage: 0.067/10.000 seconds\\nLua memory usage: 884278/52428800 bytes\\nNumber of Wikibase entities loaded: 0/400\\n-->\\n  <!--\\nTransclusion expansion time report (%,ms,calls,template)\\n100.00%  105.503      1 -total\\n 93.11%   98.237      1 Skabelon:Ingen_kilder\\n 78.35%   82.659      1 Skabelon:Ambox\\n  6.77%    7.145      1 Skabelon:Skolestub\\n  5.38%    5.678      1 Skabelon:Standardstub\\n  2.63%    2.771      1 Skabelon:Hønsedesign\\n  1.22%    1.283      1 Skabelon:Artikel_eller_andet\\n-->\\n  <!-- Saved in parser cache with key dawiki:pcache:idhash:303734-0!canonical and timestamp 20230702231515 and revision id 7785779. Rendering was triggered because: page-view\\n -->\\n </div>\\n <!--esi <esi:include src=\"/esitest-fa8a495983347898/content\" /> -->\\n <noscript>\\n  <img alt=\"\" height=\"1\" src=\"//da.wikipedia.org/wiki/Special:CentralAutoLogin/start?type=1x1\" style=\"border: none; position: absolute;\" title=\"\" width=\"1\"/>\\n </noscript>\\n <div class=\"printfooter\" data-nosnippet=\"\">\\n  Hentet fra \"\\n  <a dir=\"ltr\" href=\"https://da.wikipedia.org/w/index.php?title=Prægraduat_uddannelse&amp;oldid=7785779\">\\n   https://da.wikipedia.org/w/index.php?title=Prægraduat_uddannelse&amp;oldid=7785779\\n  </a>\\n  \"\\n </div>\\n</div>\\n'"
      ]
     },
     "execution_count": 9,
     "metadata": {},
     "output_type": "execute_result"
    }
   ],
   "source": [
    "text"
   ]
  },
  {
   "cell_type": "code",
   "execution_count": 45,
   "metadata": {},
   "outputs": [],
   "source": [
    "import html2text\n",
    "h = html2text.HTML2Text()\n",
    "h.ignore_links = True\n",
    "h.ignore_emphasis = True\n",
    "h.ignore_images = True\n",
    "h.ignore_tables = True\n",
    "h.body_width = 0\n",
    "h.unicode_snob = True\n",
    "h.single_line_break = True\n",
    "h.skip_internal_links = True\n"
   ]
  },
  {
   "cell_type": "code",
   "execution_count": 46,
   "metadata": {},
   "outputs": [
    {
     "data": {
      "text/plain": [
       "'Prægraduat uddannelse  betyder ordret \"  uddannelse  før  dimission  \" eller \"  uddannelse  før tildeling af  uddannelsesgrad  \". Prægraduat uddannelse bruges overordnet som samlet betegnelse for den grunduddannelse eller det studieforløb på en  videregående uddannelse  , som en  studerende  er i færd med at gennemføre forud for sin  dimission  . En studerende på en prægraduat uddannelse kaldes en  prægraduatstuderende  . \\n##  Se også  [  redigér  |  rediger kildetekst  ] \\n  * Postgraduat uddannelse \\n\\n\\n  \\n\\nHentet fra \"  https://da.wikipedia.org/w/index.php?title=Prægraduat_uddannelse&oldid=7785779  \" \\n'"
      ]
     },
     "execution_count": 46,
     "metadata": {},
     "output_type": "execute_result"
    }
   ],
   "source": [
    "t = h.handle(text) \n",
    "t"
   ]
  },
  {
   "cell_type": "code",
   "execution_count": 52,
   "metadata": {},
   "outputs": [
    {
     "name": "stdout",
     "output_type": "stream",
     "text": [
      "  uddannelse  før  dimission  \n"
     ]
    },
    {
     "data": {
      "text/plain": [
       "'betyder ordret \"uddannelse  før  dimission\" eller \\'  uddannelse  før tildeling af  uddannelsesgrad  \\'. '"
      ]
     },
     "execution_count": 52,
     "metadata": {},
     "output_type": "execute_result"
    }
   ],
   "source": [
    "# regex find all text between \" --> replace with @\n",
    "import re\n",
    "t = \"\"\"betyder ordret \"  uddannelse  før  dimission  \" eller '  uddannelse  før tildeling af  uddannelsesgrad  '. \"\"\"\n",
    "res = re.findall(r'\\\"(.+?)\\\"', t)\n",
    "\n",
    "for r in res:\n",
    "    print(r)\n",
    "    t = t.replace(r, f\"{r.strip()}\")\n",
    "t"
   ]
  },
  {
   "cell_type": "code",
   "execution_count": 22,
   "metadata": {},
   "outputs": [
    {
     "data": {
      "text/plain": [
       "count     1347.000000\n",
       "mean       475.688938\n",
       "std        970.700017\n",
       "min         10.000000\n",
       "25%        104.000000\n",
       "50%        217.000000\n",
       "75%        481.500000\n",
       "max      20374.000000\n",
       "Name: text_length, dtype: float64"
      ]
     },
     "execution_count": 22,
     "metadata": {},
     "output_type": "execute_result"
    }
   ],
   "source": [
    "# check text length distribution\n",
    "\n",
    "df[\"text_length\"] = df[\"text\"].apply(lambda x: len(x.split(\" \")))\n",
    "\n",
    "df[\"text_length\"].describe()\n"
   ]
  },
  {
   "cell_type": "code",
   "execution_count": 24,
   "metadata": {},
   "outputs": [
    {
     "data": {
      "image/png": "[encoded data removed]",
      "text/plain": [
       "<Figure size 640x480 with 1 Axes>"
      ]
     },
     "metadata": {},
     "output_type": "display_data"
    }
   ],
   "source": [
    "import matplotlib.pyplot as plt\n",
    "plt.hist(df[\"text_length\"], bins=100);"
   ]
  },
  {
   "cell_type": "code",
   "execution_count": 25,
   "metadata": {},
   "outputs": [
    {
     "data": {
      "image/png": "[encoded data removed]",
      "text/plain": [
       "<Figure size 640x480 with 1 Axes>"
      ]
     },
     "metadata": {},
     "output_type": "display_data"
    }
   ],
   "source": [
    "# check distribution of log text length\n",
    "import numpy as np\n",
    "plt.hist(np.log(df[\"text_length\"]), bins=100);\n"
   ]
  },
  {
   "attachments": {},
   "cell_type": "markdown",
   "metadata": {},
   "source": [
    "The data seems log-normal distributed. "
   ]
  },
  {
   "cell_type": "code",
   "execution_count": 30,
   "metadata": {},
   "outputs": [
    {
     "data": {
      "image/png": "[encoded data removed]",
      "text/plain": [
       "<Figure size 640x480 with 1 Axes>"
      ]
     },
     "metadata": {},
     "output_type": "display_data"
    }
   ],
   "source": [
    "# plot a normal distribution with the same mean and std\n",
    "\n",
    "from scipy.stats import norm\n",
    "\n",
    "mu, std = norm.fit(np.log(df[\"text_length\"]))\n",
    "x = np.linspace(0, 10, 1000)\n",
    "plt.plot(x, norm.pdf(x, mu, std));\n",
    "plt.hist(np.log(df[\"text_length\"]), bins=100, density=True);\n"
   ]
  },
  {
   "cell_type": "code",
   "execution_count": null,
   "metadata": {},
   "outputs": [],
   "source": []
  }
 ],
 "metadata": {
  "kernelspec": {
   "display_name": "wiki_scraper",
   "language": "python",
   "name": "wiki_scraper"
  },
  "language_info": {
   "codemirror_mode": {
    "name": "ipython",
    "version": 3
   },
   "file_extension": ".py",
   "mimetype": "text/x-python",
   "name": "python",
   "nbconvert_exporter": "python",
   "pygments_lexer": "ipython3",
   "version": "3.10.11"
  },
  "orig_nbformat": 4
 },
 "nbformat": 4,
 "nbformat_minor": 2
}
