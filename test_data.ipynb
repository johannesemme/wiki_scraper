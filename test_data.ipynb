{
 "cells": [
  {
   "cell_type": "code",
   "execution_count": 1,
   "metadata": {},
   "outputs": [],
   "source": [
    "import pandas as pd"
   ]
  },
  {
   "cell_type": "code",
   "execution_count": 6,
   "metadata": {},
   "outputs": [],
   "source": [
    "df = pd.read_parquet(\"data/wiki_depth_3.parquet\")"
   ]
  },
  {
   "cell_type": "code",
   "execution_count": 7,
   "metadata": {},
   "outputs": [
    {
     "data": {
      "text/html": [
       "<div>\n",
       "<style scoped>\n",
       "    .dataframe tbody tr th:only-of-type {\n",
       "        vertical-align: middle;\n",
       "    }\n",
       "\n",
       "    .dataframe tbody tr th {\n",
       "        vertical-align: top;\n",
       "    }\n",
       "\n",
       "    .dataframe thead th {\n",
       "        text-align: right;\n",
       "    }\n",
       "</style>\n",
       "<table border=\"1\" class=\"dataframe\">\n",
       "  <thead>\n",
       "    <tr style=\"text-align: right;\">\n",
       "      <th></th>\n",
       "      <th>title</th>\n",
       "      <th>text</th>\n",
       "      <th>category</th>\n",
       "      <th>url</th>\n",
       "    </tr>\n",
       "  </thead>\n",
       "  <tbody>\n",
       "    <tr>\n",
       "      <th>0</th>\n",
       "      <td>1,3-bisfosfoglycerat</td>\n",
       "      <td>&lt;div class=\"mw-body-content mw-content-ltr\" di...</td>\n",
       "      <td>Biologi</td>\n",
       "      <td>https://da.wikipedia.org/wiki/1,3-bisfosfoglyc...</td>\n",
       "    </tr>\n",
       "    <tr>\n",
       "      <th>1</th>\n",
       "      <td>1,6 millionklubben</td>\n",
       "      <td>&lt;div class=\"mw-body-content mw-content-ltr\" di...</td>\n",
       "      <td>Biologi</td>\n",
       "      <td>https://da.wikipedia.org/wiki/1,6_millionklubben</td>\n",
       "    </tr>\n",
       "    <tr>\n",
       "      <th>2</th>\n",
       "      <td>2,4,5-T</td>\n",
       "      <td>&lt;div class=\"mw-body-content mw-content-ltr\" di...</td>\n",
       "      <td>Biologi</td>\n",
       "      <td>https://da.wikipedia.org/wiki/2,4,5-T</td>\n",
       "    </tr>\n",
       "    <tr>\n",
       "      <th>3</th>\n",
       "      <td>2,4-D</td>\n",
       "      <td>&lt;div class=\"mw-body-content mw-content-ltr\" di...</td>\n",
       "      <td>Biologi</td>\n",
       "      <td>https://da.wikipedia.org/wiki/2,4-D</td>\n",
       "    </tr>\n",
       "    <tr>\n",
       "      <th>4</th>\n",
       "      <td>4-Oxalocrotonattautomerase</td>\n",
       "      <td>&lt;div class=\"mw-body-content mw-content-ltr\" di...</td>\n",
       "      <td>Biologi</td>\n",
       "      <td>https://da.wikipedia.org/wiki/4-Oxalocrotonatt...</td>\n",
       "    </tr>\n",
       "  </tbody>\n",
       "</table>\n",
       "</div>"
      ],
      "text/plain": [
       "                        title  \\\n",
       "0        1,3-bisfosfoglycerat   \n",
       "1          1,6 millionklubben   \n",
       "2                     2,4,5-T   \n",
       "3                       2,4-D   \n",
       "4  4-Oxalocrotonattautomerase   \n",
       "\n",
       "                                                text category  \\\n",
       "0  <div class=\"mw-body-content mw-content-ltr\" di...  Biologi   \n",
       "1  <div class=\"mw-body-content mw-content-ltr\" di...  Biologi   \n",
       "2  <div class=\"mw-body-content mw-content-ltr\" di...  Biologi   \n",
       "3  <div class=\"mw-body-content mw-content-ltr\" di...  Biologi   \n",
       "4  <div class=\"mw-body-content mw-content-ltr\" di...  Biologi   \n",
       "\n",
       "                                                 url  \n",
       "0  https://da.wikipedia.org/wiki/1,3-bisfosfoglyc...  \n",
       "1   https://da.wikipedia.org/wiki/1,6_millionklubben  \n",
       "2              https://da.wikipedia.org/wiki/2,4,5-T  \n",
       "3                https://da.wikipedia.org/wiki/2,4-D  \n",
       "4  https://da.wikipedia.org/wiki/4-Oxalocrotonatt...  "
      ]
     },
     "execution_count": 7,
     "metadata": {},
     "output_type": "execute_result"
    }
   ],
   "source": [
    "df.head()"
   ]
  },
  {
   "cell_type": "code",
   "execution_count": 8,
   "metadata": {},
   "outputs": [
    {
     "data": {
      "text/plain": [
       "category\n",
       "Samfund          13588\n",
       "Kultur           12663\n",
       "Videnskab         5969\n",
       "Historie          5533\n",
       "Politik           4484\n",
       "Geografi          4320\n",
       "Underholdning     4224\n",
       "Sport             4137\n",
       "Natur             3929\n",
       "Religion          3437\n",
       "Biologi           3382\n",
       "Teknologi         2730\n",
       "Økonomi           2639\n",
       "Sundhed           2116\n",
       "Uddannelse        1378\n",
       "Name: count, dtype: int64"
      ]
     },
     "execution_count": 8,
     "metadata": {},
     "output_type": "execute_result"
    }
   ],
   "source": [
    "df.category.value_counts()"
   ]
  },
  {
   "cell_type": "code",
   "execution_count": null,
   "metadata": {},
   "outputs": [],
   "source": []
  }
 ],
 "metadata": {
  "kernelspec": {
   "display_name": "wiki_scraper",
   "language": "python",
   "name": "python3"
  },
  "language_info": {
   "codemirror_mode": {
    "name": "ipython",
    "version": 3
   },
   "file_extension": ".py",
   "mimetype": "text/x-python",
   "name": "python",
   "nbconvert_exporter": "python",
   "pygments_lexer": "ipython3",
   "version": "3.10.12"
  },
  "orig_nbformat": 4
 },
 "nbformat": 4,
 "nbformat_minor": 2
}
